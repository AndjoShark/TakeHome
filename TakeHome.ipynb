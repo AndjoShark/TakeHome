{
 "cells": [
  {
   "cell_type": "code",
   "execution_count": 1,
   "metadata": {
    "collapsed": true
   },
   "outputs": [],
   "source": [
    "import pandas as pd\n",
    "import numpy as np\n",
    "import matplotlib.pyplot as plt\n",
    "%matplotlib inline"
   ]
  },
  {
   "cell_type": "code",
   "execution_count": 2,
   "metadata": {},
   "outputs": [
    {
     "data": {
      "text/html": [
       "<div>\n",
       "<style>\n",
       "    .dataframe thead tr:only-child th {\n",
       "        text-align: right;\n",
       "    }\n",
       "\n",
       "    .dataframe thead th {\n",
       "        text-align: left;\n",
       "    }\n",
       "\n",
       "    .dataframe tbody tr th {\n",
       "        vertical-align: top;\n",
       "    }\n",
       "</style>\n",
       "<table border=\"1\" class=\"dataframe\">\n",
       "  <thead>\n",
       "    <tr style=\"text-align: right;\">\n",
       "      <th></th>\n",
       "      <th>purch_amt</th>\n",
       "      <th>gender</th>\n",
       "      <th>card_on_file</th>\n",
       "      <th>age</th>\n",
       "      <th>days_since_last_purch</th>\n",
       "      <th>loyalty</th>\n",
       "    </tr>\n",
       "  </thead>\n",
       "  <tbody>\n",
       "    <tr>\n",
       "      <th>0</th>\n",
       "      <td>19.58</td>\n",
       "      <td>male</td>\n",
       "      <td>no</td>\n",
       "      <td>31.0</td>\n",
       "      <td>35.0</td>\n",
       "      <td>False</td>\n",
       "    </tr>\n",
       "    <tr>\n",
       "      <th>1</th>\n",
       "      <td>65.16</td>\n",
       "      <td>male</td>\n",
       "      <td>yes</td>\n",
       "      <td>23.0</td>\n",
       "      <td>61.0</td>\n",
       "      <td>False</td>\n",
       "    </tr>\n",
       "    <tr>\n",
       "      <th>2</th>\n",
       "      <td>40.60</td>\n",
       "      <td>female</td>\n",
       "      <td>no</td>\n",
       "      <td>36.0</td>\n",
       "      <td>49.0</td>\n",
       "      <td>False</td>\n",
       "    </tr>\n",
       "    <tr>\n",
       "      <th>3</th>\n",
       "      <td>38.01</td>\n",
       "      <td>male</td>\n",
       "      <td>yes</td>\n",
       "      <td>47.0</td>\n",
       "      <td>57.0</td>\n",
       "      <td>False</td>\n",
       "    </tr>\n",
       "    <tr>\n",
       "      <th>4</th>\n",
       "      <td>22.32</td>\n",
       "      <td>female</td>\n",
       "      <td>yes</td>\n",
       "      <td>5.0</td>\n",
       "      <td>39.0</td>\n",
       "      <td>False</td>\n",
       "    </tr>\n",
       "  </tbody>\n",
       "</table>\n",
       "</div>"
      ],
      "text/plain": [
       "   purch_amt  gender card_on_file   age  days_since_last_purch  loyalty\n",
       "0      19.58    male           no  31.0                   35.0    False\n",
       "1      65.16    male          yes  23.0                   61.0    False\n",
       "2      40.60  female           no  36.0                   49.0    False\n",
       "3      38.01    male          yes  47.0                   57.0    False\n",
       "4      22.32  female          yes   5.0                   39.0    False"
      ]
     },
     "execution_count": 2,
     "metadata": {},
     "output_type": "execute_result"
    }
   ],
   "source": [
    "df = pd.read_csv('/Users/joshuarkarnad/Desktop/customers_data.csv')\n",
    "df = df.drop('Unnamed: 0', axis = 1)\n",
    "df.head()"
   ]
  },
  {
   "cell_type": "code",
   "execution_count": 3,
   "metadata": {
    "collapsed": true
   },
   "outputs": [],
   "source": [
    "df = pd.get_dummies(df)"
   ]
  },
  {
   "cell_type": "code",
   "execution_count": 4,
   "metadata": {
    "collapsed": true
   },
   "outputs": [],
   "source": [
    "df['loyalty'] = df.loyalty.astype(int)\n",
    "df= df.drop(['gender_male', 'card_on_file_no'], axis = 1)"
   ]
  },
  {
   "cell_type": "code",
   "execution_count": 5,
   "metadata": {},
   "outputs": [
    {
     "data": {
      "text/html": [
       "<div>\n",
       "<style>\n",
       "    .dataframe thead tr:only-child th {\n",
       "        text-align: right;\n",
       "    }\n",
       "\n",
       "    .dataframe thead th {\n",
       "        text-align: left;\n",
       "    }\n",
       "\n",
       "    .dataframe tbody tr th {\n",
       "        vertical-align: top;\n",
       "    }\n",
       "</style>\n",
       "<table border=\"1\" class=\"dataframe\">\n",
       "  <thead>\n",
       "    <tr style=\"text-align: right;\">\n",
       "      <th></th>\n",
       "      <th>purch_amt</th>\n",
       "      <th>age</th>\n",
       "      <th>days_since_last_purch</th>\n",
       "      <th>loyalty</th>\n",
       "      <th>gender_female</th>\n",
       "      <th>card_on_file_yes</th>\n",
       "    </tr>\n",
       "  </thead>\n",
       "  <tbody>\n",
       "    <tr>\n",
       "      <th>0</th>\n",
       "      <td>19.58</td>\n",
       "      <td>31.0</td>\n",
       "      <td>35.0</td>\n",
       "      <td>0</td>\n",
       "      <td>0</td>\n",
       "      <td>0</td>\n",
       "    </tr>\n",
       "    <tr>\n",
       "      <th>1</th>\n",
       "      <td>65.16</td>\n",
       "      <td>23.0</td>\n",
       "      <td>61.0</td>\n",
       "      <td>0</td>\n",
       "      <td>0</td>\n",
       "      <td>1</td>\n",
       "    </tr>\n",
       "    <tr>\n",
       "      <th>2</th>\n",
       "      <td>40.60</td>\n",
       "      <td>36.0</td>\n",
       "      <td>49.0</td>\n",
       "      <td>0</td>\n",
       "      <td>1</td>\n",
       "      <td>0</td>\n",
       "    </tr>\n",
       "    <tr>\n",
       "      <th>3</th>\n",
       "      <td>38.01</td>\n",
       "      <td>47.0</td>\n",
       "      <td>57.0</td>\n",
       "      <td>0</td>\n",
       "      <td>0</td>\n",
       "      <td>1</td>\n",
       "    </tr>\n",
       "    <tr>\n",
       "      <th>4</th>\n",
       "      <td>22.32</td>\n",
       "      <td>5.0</td>\n",
       "      <td>39.0</td>\n",
       "      <td>0</td>\n",
       "      <td>1</td>\n",
       "      <td>1</td>\n",
       "    </tr>\n",
       "  </tbody>\n",
       "</table>\n",
       "</div>"
      ],
      "text/plain": [
       "   purch_amt   age  days_since_last_purch  loyalty  gender_female  \\\n",
       "0      19.58  31.0                   35.0        0              0   \n",
       "1      65.16  23.0                   61.0        0              0   \n",
       "2      40.60  36.0                   49.0        0              1   \n",
       "3      38.01  47.0                   57.0        0              0   \n",
       "4      22.32   5.0                   39.0        0              1   \n",
       "\n",
       "   card_on_file_yes  \n",
       "0                 0  \n",
       "1                 1  \n",
       "2                 0  \n",
       "3                 1  \n",
       "4                 1  "
      ]
     },
     "execution_count": 5,
     "metadata": {},
     "output_type": "execute_result"
    }
   ],
   "source": [
    "df.head()"
   ]
  },
  {
   "cell_type": "code",
   "execution_count": 6,
   "metadata": {},
   "outputs": [
    {
     "data": {
      "text/plain": [
       "(120000, 6)"
      ]
     },
     "execution_count": 6,
     "metadata": {},
     "output_type": "execute_result"
    }
   ],
   "source": [
    "df.shape"
   ]
  },
  {
   "cell_type": "code",
   "execution_count": 7,
   "metadata": {},
   "outputs": [
    {
     "data": {
      "text/html": [
       "<div>\n",
       "<style>\n",
       "    .dataframe thead tr:only-child th {\n",
       "        text-align: right;\n",
       "    }\n",
       "\n",
       "    .dataframe thead th {\n",
       "        text-align: left;\n",
       "    }\n",
       "\n",
       "    .dataframe tbody tr th {\n",
       "        vertical-align: top;\n",
       "    }\n",
       "</style>\n",
       "<table border=\"1\" class=\"dataframe\">\n",
       "  <thead>\n",
       "    <tr style=\"text-align: right;\">\n",
       "      <th></th>\n",
       "      <th>purch_amt</th>\n",
       "      <th>age</th>\n",
       "      <th>days_since_last_purch</th>\n",
       "      <th>loyalty</th>\n",
       "      <th>gender_female</th>\n",
       "      <th>card_on_file_yes</th>\n",
       "    </tr>\n",
       "  </thead>\n",
       "  <tbody>\n",
       "    <tr>\n",
       "      <th>count</th>\n",
       "      <td>120000.000000</td>\n",
       "      <td>120000.000000</td>\n",
       "      <td>120000.000000</td>\n",
       "      <td>120000.000000</td>\n",
       "      <td>120000.000000</td>\n",
       "      <td>120000.000000</td>\n",
       "    </tr>\n",
       "    <tr>\n",
       "      <th>mean</th>\n",
       "      <td>44.036234</td>\n",
       "      <td>25.803008</td>\n",
       "      <td>56.605908</td>\n",
       "      <td>0.166667</td>\n",
       "      <td>0.498492</td>\n",
       "      <td>0.500725</td>\n",
       "    </tr>\n",
       "    <tr>\n",
       "      <th>std</th>\n",
       "      <td>20.473148</td>\n",
       "      <td>10.153072</td>\n",
       "      <td>16.422187</td>\n",
       "      <td>0.372680</td>\n",
       "      <td>0.500000</td>\n",
       "      <td>0.500002</td>\n",
       "    </tr>\n",
       "    <tr>\n",
       "      <th>min</th>\n",
       "      <td>-43.950000</td>\n",
       "      <td>-22.000000</td>\n",
       "      <td>-9.000000</td>\n",
       "      <td>0.000000</td>\n",
       "      <td>0.000000</td>\n",
       "      <td>0.000000</td>\n",
       "    </tr>\n",
       "    <tr>\n",
       "      <th>25%</th>\n",
       "      <td>30.210000</td>\n",
       "      <td>19.000000</td>\n",
       "      <td>45.000000</td>\n",
       "      <td>0.000000</td>\n",
       "      <td>0.000000</td>\n",
       "      <td>0.000000</td>\n",
       "    </tr>\n",
       "    <tr>\n",
       "      <th>50%</th>\n",
       "      <td>43.970000</td>\n",
       "      <td>26.000000</td>\n",
       "      <td>57.000000</td>\n",
       "      <td>0.000000</td>\n",
       "      <td>0.000000</td>\n",
       "      <td>1.000000</td>\n",
       "    </tr>\n",
       "    <tr>\n",
       "      <th>75%</th>\n",
       "      <td>57.830000</td>\n",
       "      <td>33.000000</td>\n",
       "      <td>68.000000</td>\n",
       "      <td>0.000000</td>\n",
       "      <td>1.000000</td>\n",
       "      <td>1.000000</td>\n",
       "    </tr>\n",
       "    <tr>\n",
       "      <th>max</th>\n",
       "      <td>142.200000</td>\n",
       "      <td>71.000000</td>\n",
       "      <td>125.000000</td>\n",
       "      <td>1.000000</td>\n",
       "      <td>1.000000</td>\n",
       "      <td>1.000000</td>\n",
       "    </tr>\n",
       "  </tbody>\n",
       "</table>\n",
       "</div>"
      ],
      "text/plain": [
       "           purch_amt            age  days_since_last_purch        loyalty  \\\n",
       "count  120000.000000  120000.000000          120000.000000  120000.000000   \n",
       "mean       44.036234      25.803008              56.605908       0.166667   \n",
       "std        20.473148      10.153072              16.422187       0.372680   \n",
       "min       -43.950000     -22.000000              -9.000000       0.000000   \n",
       "25%        30.210000      19.000000              45.000000       0.000000   \n",
       "50%        43.970000      26.000000              57.000000       0.000000   \n",
       "75%        57.830000      33.000000              68.000000       0.000000   \n",
       "max       142.200000      71.000000             125.000000       1.000000   \n",
       "\n",
       "       gender_female  card_on_file_yes  \n",
       "count  120000.000000     120000.000000  \n",
       "mean        0.498492          0.500725  \n",
       "std         0.500000          0.500002  \n",
       "min         0.000000          0.000000  \n",
       "25%         0.000000          0.000000  \n",
       "50%         0.000000          1.000000  \n",
       "75%         1.000000          1.000000  \n",
       "max         1.000000          1.000000  "
      ]
     },
     "execution_count": 7,
     "metadata": {},
     "output_type": "execute_result"
    }
   ],
   "source": [
    "df.describe()"
   ]
  },
  {
   "cell_type": "code",
   "execution_count": 8,
   "metadata": {
    "collapsed": true
   },
   "outputs": [],
   "source": [
    "negative = df[df['purch_amt'] < 0]"
   ]
  },
  {
   "cell_type": "code",
   "execution_count": 9,
   "metadata": {},
   "outputs": [
    {
     "data": {
      "text/plain": [
       "(1840, 6)"
      ]
     },
     "execution_count": 9,
     "metadata": {},
     "output_type": "execute_result"
    }
   ],
   "source": [
    "negative.shape"
   ]
  },
  {
   "cell_type": "code",
   "execution_count": 10,
   "metadata": {},
   "outputs": [
    {
     "data": {
      "text/html": [
       "<div>\n",
       "<style>\n",
       "    .dataframe thead tr:only-child th {\n",
       "        text-align: right;\n",
       "    }\n",
       "\n",
       "    .dataframe thead th {\n",
       "        text-align: left;\n",
       "    }\n",
       "\n",
       "    .dataframe tbody tr th {\n",
       "        vertical-align: top;\n",
       "    }\n",
       "</style>\n",
       "<table border=\"1\" class=\"dataframe\">\n",
       "  <thead>\n",
       "    <tr style=\"text-align: right;\">\n",
       "      <th></th>\n",
       "      <th>purch_amt</th>\n",
       "      <th>age</th>\n",
       "      <th>days_since_last_purch</th>\n",
       "      <th>loyalty</th>\n",
       "      <th>gender_female</th>\n",
       "      <th>card_on_file_yes</th>\n",
       "    </tr>\n",
       "  </thead>\n",
       "  <tbody>\n",
       "    <tr>\n",
       "      <th>count</th>\n",
       "      <td>1840.000000</td>\n",
       "      <td>1840.000000</td>\n",
       "      <td>1840.000000</td>\n",
       "      <td>1840.000000</td>\n",
       "      <td>1840.000000</td>\n",
       "      <td>1840.00000</td>\n",
       "    </tr>\n",
       "    <tr>\n",
       "      <th>mean</th>\n",
       "      <td>-6.959734</td>\n",
       "      <td>25.405978</td>\n",
       "      <td>59.186957</td>\n",
       "      <td>0.045652</td>\n",
       "      <td>0.517391</td>\n",
       "      <td>0.52500</td>\n",
       "    </tr>\n",
       "    <tr>\n",
       "      <th>std</th>\n",
       "      <td>6.375890</td>\n",
       "      <td>9.793289</td>\n",
       "      <td>15.926689</td>\n",
       "      <td>0.208786</td>\n",
       "      <td>0.499833</td>\n",
       "      <td>0.49951</td>\n",
       "    </tr>\n",
       "    <tr>\n",
       "      <th>min</th>\n",
       "      <td>-43.950000</td>\n",
       "      <td>-10.000000</td>\n",
       "      <td>-5.000000</td>\n",
       "      <td>0.000000</td>\n",
       "      <td>0.000000</td>\n",
       "      <td>0.00000</td>\n",
       "    </tr>\n",
       "    <tr>\n",
       "      <th>25%</th>\n",
       "      <td>-9.675000</td>\n",
       "      <td>19.000000</td>\n",
       "      <td>49.000000</td>\n",
       "      <td>0.000000</td>\n",
       "      <td>0.000000</td>\n",
       "      <td>0.00000</td>\n",
       "    </tr>\n",
       "    <tr>\n",
       "      <th>50%</th>\n",
       "      <td>-5.260000</td>\n",
       "      <td>25.000000</td>\n",
       "      <td>59.000000</td>\n",
       "      <td>0.000000</td>\n",
       "      <td>1.000000</td>\n",
       "      <td>1.00000</td>\n",
       "    </tr>\n",
       "    <tr>\n",
       "      <th>75%</th>\n",
       "      <td>-2.030000</td>\n",
       "      <td>32.000000</td>\n",
       "      <td>69.000000</td>\n",
       "      <td>0.000000</td>\n",
       "      <td>1.000000</td>\n",
       "      <td>1.00000</td>\n",
       "    </tr>\n",
       "    <tr>\n",
       "      <th>max</th>\n",
       "      <td>-0.010000</td>\n",
       "      <td>58.000000</td>\n",
       "      <td>114.000000</td>\n",
       "      <td>1.000000</td>\n",
       "      <td>1.000000</td>\n",
       "      <td>1.00000</td>\n",
       "    </tr>\n",
       "  </tbody>\n",
       "</table>\n",
       "</div>"
      ],
      "text/plain": [
       "         purch_amt          age  days_since_last_purch      loyalty  \\\n",
       "count  1840.000000  1840.000000            1840.000000  1840.000000   \n",
       "mean     -6.959734    25.405978              59.186957     0.045652   \n",
       "std       6.375890     9.793289              15.926689     0.208786   \n",
       "min     -43.950000   -10.000000              -5.000000     0.000000   \n",
       "25%      -9.675000    19.000000              49.000000     0.000000   \n",
       "50%      -5.260000    25.000000              59.000000     0.000000   \n",
       "75%      -2.030000    32.000000              69.000000     0.000000   \n",
       "max      -0.010000    58.000000             114.000000     1.000000   \n",
       "\n",
       "       gender_female  card_on_file_yes  \n",
       "count    1840.000000        1840.00000  \n",
       "mean        0.517391           0.52500  \n",
       "std         0.499833           0.49951  \n",
       "min         0.000000           0.00000  \n",
       "25%         0.000000           0.00000  \n",
       "50%         1.000000           1.00000  \n",
       "75%         1.000000           1.00000  \n",
       "max         1.000000           1.00000  "
      ]
     },
     "execution_count": 10,
     "metadata": {},
     "output_type": "execute_result"
    }
   ],
   "source": [
    "negative.describe()"
   ]
  },
  {
   "cell_type": "code",
   "execution_count": 11,
   "metadata": {
    "collapsed": true
   },
   "outputs": [],
   "source": [
    "from sklearn.svm import SVC\n",
    "from sklearn.neighbors import KNeighborsClassifier\n",
    "from sklearn.neural_network import MLPClassifier\n",
    "from sklearn.ensemble import GradientBoostingClassifier\n",
    "from sklearn.ensemble import RandomForestClassifier\n",
    "from sklearn.model_selection import train_test_split"
   ]
  },
  {
   "cell_type": "code",
   "execution_count": 12,
   "metadata": {
    "collapsed": true
   },
   "outputs": [],
   "source": [
    "df_train, df_test = train_test_split(df, test_size=0.2, random_state = 12)\n",
    "X_train = df_train.loc[:, ~(df_train.columns).isin(['loyalty'])]\n",
    "Y_train = df_train['loyalty']\n",
    "X_test = df_test.loc[:, ~(df_test.columns).isin(['loyalty'])]\n",
    "Y_test = df_test['loyalty']"
   ]
  },
  {
   "cell_type": "code",
   "execution_count": 13,
   "metadata": {
    "collapsed": true
   },
   "outputs": [],
   "source": [
    "svc = SVC()\n",
    "knc = KNeighborsClassifier()\n",
    "mlp = MLPClassifier()\n",
    "gbc = GradientBoostingClassifier()\n",
    "rfc = RandomForestClassifier()"
   ]
  },
  {
   "cell_type": "code",
   "execution_count": 14,
   "metadata": {
    "collapsed": true
   },
   "outputs": [],
   "source": [
    "from sklearn.metrics import accuracy_score, f1_score\n",
    "\n",
    "def test_metrics(model, x, y):\n",
    "    y_pred = model.predict(x)\n",
    "    accuracy = accuracy_score(y, y_pred)\n",
    "    macro = f1_score(y, y_pred, average='macro')\n",
    "    micro = f1_score(y, y_pred, average='micro')\n",
    "    weighted = f1_score(y, y_pred, average='weighted')\n",
    "    print(model)\n",
    "    print('Accuracy:', accuracy)\n",
    "    print('F1 Macro:', macro)\n",
    "    print('F1 Micro:', micro)\n",
    "    print('F1 Weighted:', weighted)"
   ]
  },
  {
   "cell_type": "code",
   "execution_count": 15,
   "metadata": {
    "collapsed": true
   },
   "outputs": [],
   "source": [
    "## Couldn't get it to run in 30 min so I stopped it\n",
    "# svc = svc.fit(X_train, Y_train)\n",
    "# test_metrics(svc, X_train, Y_train)"
   ]
  },
  {
   "cell_type": "code",
   "execution_count": 16,
   "metadata": {},
   "outputs": [
    {
     "name": "stdout",
     "output_type": "stream",
     "text": [
      "KNeighborsClassifier(algorithm='auto', leaf_size=30, metric='minkowski',\n",
      "           metric_params=None, n_jobs=1, n_neighbors=5, p=2,\n",
      "           weights='uniform')\n",
      "Accuracy: 0.89009375\n",
      "F1 Macro: 0.775978378315\n",
      "F1 Micro: 0.89009375\n",
      "F1 Weighted: 0.882883781028\n"
     ]
    }
   ],
   "source": [
    "knc = knc.fit(X_train, Y_train)\n",
    "test_metrics(knc, X_train, Y_train)"
   ]
  },
  {
   "cell_type": "code",
   "execution_count": 17,
   "metadata": {},
   "outputs": [
    {
     "name": "stdout",
     "output_type": "stream",
     "text": [
      "MLPClassifier(activation='relu', alpha=0.0001, batch_size='auto', beta_1=0.9,\n",
      "       beta_2=0.999, early_stopping=False, epsilon=1e-08,\n",
      "       hidden_layer_sizes=(100,), learning_rate='constant',\n",
      "       learning_rate_init=0.001, max_iter=200, momentum=0.9,\n",
      "       nesterovs_momentum=True, power_t=0.5, random_state=None,\n",
      "       shuffle=True, solver='adam', tol=0.0001, validation_fraction=0.1,\n",
      "       verbose=False, warm_start=False)\n",
      "Accuracy: 0.86828125\n",
      "F1 Macro: 0.725651059093\n",
      "F1 Micro: 0.86828125\n",
      "F1 Weighted: 0.857914551688\n"
     ]
    }
   ],
   "source": [
    "mlp = mlp.fit(X_train, Y_train)\n",
    "test_metrics(mlp, X_train, Y_train)"
   ]
  },
  {
   "cell_type": "code",
   "execution_count": 18,
   "metadata": {},
   "outputs": [
    {
     "name": "stdout",
     "output_type": "stream",
     "text": [
      "GradientBoostingClassifier(criterion='friedman_mse', init=None,\n",
      "              learning_rate=0.1, loss='deviance', max_depth=3,\n",
      "              max_features=None, max_leaf_nodes=None,\n",
      "              min_impurity_decrease=0.0, min_impurity_split=None,\n",
      "              min_samples_leaf=1, min_samples_split=2,\n",
      "              min_weight_fraction_leaf=0.0, n_estimators=100,\n",
      "              presort='auto', random_state=None, subsample=1.0, verbose=0,\n",
      "              warm_start=False)\n",
      "Accuracy: 0.8704375\n",
      "F1 Macro: 0.724451179492\n",
      "F1 Micro: 0.8704375\n",
      "F1 Weighted: 0.85855401796\n"
     ]
    }
   ],
   "source": [
    "gbc = gbc.fit(X_train, Y_train)\n",
    "test_metrics(gbc, X_train, Y_train)"
   ]
  },
  {
   "cell_type": "code",
   "execution_count": 19,
   "metadata": {},
   "outputs": [
    {
     "name": "stdout",
     "output_type": "stream",
     "text": [
      "RandomForestClassifier(bootstrap=True, class_weight=None, criterion='gini',\n",
      "            max_depth=None, max_features='auto', max_leaf_nodes=None,\n",
      "            min_impurity_decrease=0.0, min_impurity_split=None,\n",
      "            min_samples_leaf=1, min_samples_split=2,\n",
      "            min_weight_fraction_leaf=0.0, n_estimators=10, n_jobs=1,\n",
      "            oob_score=False, random_state=None, verbose=0,\n",
      "            warm_start=False)\n",
      "Accuracy: 0.98415625\n",
      "F1 Macro: 0.970410864401\n",
      "F1 Micro: 0.98415625\n",
      "F1 Weighted: 0.983895127378\n"
     ]
    }
   ],
   "source": [
    "rfc = rfc.fit(X_train, Y_train)\n",
    "test_metrics(rfc, X_train, Y_train)"
   ]
  },
  {
   "cell_type": "code",
   "execution_count": 21,
   "metadata": {},
   "outputs": [
    {
     "data": {
      "text/plain": [
       "GridSearchCV(cv=None, error_score='raise',\n",
       "       estimator=RandomForestClassifier(bootstrap=True, class_weight=None, criterion='gini',\n",
       "            max_depth=None, max_features='auto', max_leaf_nodes=None,\n",
       "            min_impurity_decrease=0.0, min_impurity_split=None,\n",
       "            min_samples_leaf=1, min_samples_split=2,\n",
       "            min_weight_fraction_leaf=0.0, n_estimators=10, n_jobs=1,\n",
       "            oob_score=False, random_state=None, verbose=0,\n",
       "            warm_start=False),\n",
       "       fit_params=None, iid=True, n_jobs=1,\n",
       "       param_grid={'max_depth': [None, 10, 20], 'n_estimators': range(10, 50, 10)},\n",
       "       pre_dispatch='2*n_jobs', refit=True, return_train_score='warn',\n",
       "       scoring=None, verbose=0)"
      ]
     },
     "execution_count": 21,
     "metadata": {},
     "output_type": "execute_result"
    }
   ],
   "source": [
    "from sklearn.model_selection import GridSearchCV\n",
    "parameters = {'max_depth':[None, 10, 20], 'n_estimators':range(10,50,10)}\n",
    "GSrfc = GridSearchCV(rfc,parameters)\n",
    "GSrfc.fit(X_train,Y_train)"
   ]
  },
  {
   "cell_type": "code",
   "execution_count": 23,
   "metadata": {},
   "outputs": [
    {
     "data": {
      "text/plain": [
       "{'max_depth': 10, 'n_estimators': 30}"
      ]
     },
     "execution_count": 23,
     "metadata": {},
     "output_type": "execute_result"
    }
   ],
   "source": [
    "GSrfc.best_params_"
   ]
  },
  {
   "cell_type": "code",
   "execution_count": 27,
   "metadata": {},
   "outputs": [
    {
     "name": "stdout",
     "output_type": "stream",
     "text": [
      "RandomForestClassifier(bootstrap=True, class_weight=None, criterion='gini',\n",
      "            max_depth=10, max_features='auto', max_leaf_nodes=None,\n",
      "            min_impurity_decrease=0.0, min_impurity_split=None,\n",
      "            min_samples_leaf=1, min_samples_split=2,\n",
      "            min_weight_fraction_leaf=0.0, n_estimators=30, n_jobs=1,\n",
      "            oob_score=False, random_state=None, verbose=0,\n",
      "            warm_start=False)\n",
      "Accuracy: 0.879979166667\n",
      "F1 Macro: 0.740528192206\n",
      "F1 Micro: 0.879979166667\n",
      "F1 Weighted: 0.867713948389\n"
     ]
    }
   ],
   "source": [
    "bestrfc = RandomForestClassifier(max_depth= 10, n_estimators= 30)\n",
    "bestrfc.fit(X_train, Y_train)\n",
    "test_metrics(bestrfc, X_train, Y_train)"
   ]
  },
  {
   "cell_type": "code",
   "execution_count": 28,
   "metadata": {},
   "outputs": [
    {
     "name": "stdout",
     "output_type": "stream",
     "text": [
      "RandomForestClassifier(bootstrap=True, class_weight=None, criterion='gini',\n",
      "            max_depth=10, max_features='auto', max_leaf_nodes=None,\n",
      "            min_impurity_decrease=0.0, min_impurity_split=None,\n",
      "            min_samples_leaf=1, min_samples_split=2,\n",
      "            min_weight_fraction_leaf=0.0, n_estimators=30, n_jobs=1,\n",
      "            oob_score=False, random_state=None, verbose=0,\n",
      "            warm_start=False)\n",
      "Accuracy: 0.867583333333\n",
      "F1 Macro: 0.720290536397\n",
      "F1 Micro: 0.867583333333\n",
      "F1 Weighted: 0.854017781755\n"
     ]
    }
   ],
   "source": [
    "test_metrics(bestrfc, X_test, Y_test)"
   ]
  },
  {
   "cell_type": "code",
   "execution_count": 29,
   "metadata": {},
   "outputs": [
    {
     "data": {
      "image/png": "[encoded data removed]",
      "text/plain": [
       "<matplotlib.figure.Figure at 0x1a2714b080>"
      ]
     },
     "metadata": {},
     "output_type": "display_data"
    }
   ],
   "source": [
    "feature_importance = bestrfc.feature_importances_\n",
    "feature_importance = 100.0 * (feature_importance / feature_importance.max())\n",
    "sorted_idx = np.argsort(feature_importance)[::-1]\n",
    "pos = np.arange(sorted_idx.shape[0]) + .5\n",
    "plt.subplot(1, 2, 2)\n",
    "plt.barh(pos[0:15], feature_importance[sorted_idx[0:15]], align='center')\n",
    "plt.yticks(pos[0:15], X_train.columns[sorted_idx[0:15]])\n",
    "plt.xlabel('Relative Importance')\n",
    "plt.title('Variable Importance Random Forest')\n",
    "plt.show()"
   ]
  }
 ],
 "metadata": {
  "kernelspec": {
   "display_name": "Python 3",
   "language": "python",
   "name": "python3"
  },
  "language_info": {
   "codemirror_mode": {
    "name": "ipython",
    "version": 3
   },
   "file_extension": ".py",
   "mimetype": "text/x-python",
   "name": "python",
   "nbconvert_exporter": "python",
   "pygments_lexer": "ipython3",
   "version": "3.6.3"
  }
 },
 "nbformat": 4,
 "nbformat_minor": 2
}
